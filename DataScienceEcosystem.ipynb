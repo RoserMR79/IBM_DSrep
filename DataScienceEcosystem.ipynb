{
 "cells": [
  {
   "cell_type": "markdown",
   "id": "ade8e6b1-98bd-4943-bf15-41159d06990f",
   "metadata": {},
   "source": [
    "# Data Science Tools and Ecosystem"
   ]
  },
  {
   "cell_type": "markdown",
   "id": "57e38cf2-d22c-4faa-be18-75fae309f80c",
   "metadata": {},
   "source": [
    "In this notebook, Data Science Tools and Ecosystem are summarized"
   ]
  },
  {
   "cell_type": "markdown",
   "id": "18fe132d-fef2-40c8-a002-48bf243aa189",
   "metadata": {},
   "source": [
    "*Objectives:*\n",
    "- List popular languages used in Data Science\n",
    "- List commonly used libraries for Data Science\n",
    "- Create tables using Markdown\n",
    "- Perform simple arithmetic operations using Phyton\n",
    "- convert minutes to hours using Phyton"
   ]
  },
  {
   "cell_type": "markdown",
   "id": "769463a0-a284-4bbb-bb23-5042186a03df",
   "metadata": {},
   "source": [
    "Some of the popular languages that Data Scientists use are:\n",
    "1. Phyton\n",
    "2. R\n",
    "3. SQL"
   ]
  },
  {
   "cell_type": "markdown",
   "id": "8702f191-2547-461b-b389-30790dfcc86e",
   "metadata": {},
   "source": [
    "Some of the commonly used libraries used by Data Scientists include:\n",
    "1. Matplotlib\n",
    "2. Pandas\n",
    "3. NumPy"
   ]
  },
  {
   "cell_type": "markdown",
   "id": "c6ba4aba-9fd1-41bb-ad1c-168f1c675d51",
   "metadata": {},
   "source": [
    "| Data Science Tools |\n",
    "|--------------------|\n",
    "| Jupyter Notebook   |\n",
    "| RStudio            |\n",
    "| VS Code            |\n"
   ]
  },
  {
   "cell_type": "markdown",
   "id": "23170b79-368c-484d-9be5-0326405eb5a0",
   "metadata": {},
   "source": [
    "### Below are a few examples of evaluating arithmetic expressions in Python:"
   ]
  },
  {
   "cell_type": "code",
   "execution_count": 3,
   "id": "8f9f8ff4-5fed-41fe-ba30-a56f7423cb67",
   "metadata": {},
   "outputs": [
    {
     "data": {
      "text/plain": [
       "17"
      ]
     },
     "execution_count": 3,
     "metadata": {},
     "output_type": "execute_result"
    }
   ],
   "source": [
    "# This a simple arithmetic expression to mutiply then add integers.\n",
    "(3*4)+5"
   ]
  },
  {
   "cell_type": "code",
   "execution_count": 5,
   "id": "65c7e2bf-db02-48b0-82aa-86e29b4c8aa5",
   "metadata": {},
   "outputs": [
    {
     "data": {
      "text/plain": [
       "3.3333333333333335"
      ]
     },
     "execution_count": 5,
     "metadata": {},
     "output_type": "execute_result"
    }
   ],
   "source": [
    "# This will convert 200 minutes to hours by diving by 60.\n",
    "200/60"
   ]
  },
  {
   "cell_type": "markdown",
   "id": "12b60ea8-9736-41f2-97ea-bb569cdeaba8",
   "metadata": {},
   "source": [
    "## Author\n",
    "Roser Moreno"
   ]
  },
  {
   "cell_type": "code",
   "execution_count": null,
   "id": "e55dd45a-2c94-4d2d-a7ce-d9d9298661ff",
   "metadata": {},
   "outputs": [],
   "source": []
  }
 ],
 "metadata": {
  "kernelspec": {
   "display_name": "Python [conda env:RMR_Env]",
   "language": "python",
   "name": "conda-env-RMR_Env-py"
  },
  "language_info": {
   "codemirror_mode": {
    "name": "ipython",
    "version": 3
   },
   "file_extension": ".py",
   "mimetype": "text/x-python",
   "name": "python",
   "nbconvert_exporter": "python",
   "pygments_lexer": "ipython3",
   "version": "3.13.5"
  }
 },
 "nbformat": 4,
 "nbformat_minor": 5
}
